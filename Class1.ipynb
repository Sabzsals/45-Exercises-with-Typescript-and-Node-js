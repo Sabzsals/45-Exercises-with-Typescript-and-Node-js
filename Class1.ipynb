{
  "nbformat": 4,
  "nbformat_minor": 0,
  "metadata": {
    "colab": {
      "provenance": [],
      "authorship_tag": "ABX9TyOyemhFT6fI/PgcBDop6wzc",
      "include_colab_link": true
    },
    "kernelspec": {
      "name": "python3",
      "display_name": "Python 3"
    },
    "language_info": {
      "name": "python"
    }
  },
  "cells": [
    {
      "cell_type": "markdown",
      "metadata": {
        "id": "view-in-github",
        "colab_type": "text"
      },
      "source": [
        "<a href=\"https://colab.research.google.com/github/Sabzsals/45-Exercises-with-Typescript-and-Node-js/blob/main/Class1.ipynb\" target=\"_parent\"><img src=\"https://colab.research.google.com/assets/colab-badge.svg\" alt=\"Open In Colab\"/></a>"
      ]
    },
    {
      "cell_type": "code",
      "execution_count": 1,
      "metadata": {
        "colab": {
          "base_uri": "https://localhost:8080/"
        },
        "id": "FXcw3_enX0SB",
        "outputId": "446df900-053b-41d5-95c8-170134a4330a"
      },
      "outputs": [
        {
          "output_type": "stream",
          "name": "stdout",
          "text": [
            "['He', '', 'o Wor', 'd']\n"
          ]
        }
      ],
      "source": [
        "my_string: str = \"Hello World\"\n",
        "modified_string: str = my_string.split(\"l\")\n",
        "print(modified_string)"
      ]
    },
    {
      "cell_type": "code",
      "source": [
        "message = \"Pakistan won all the matchesof champions trophy!, Pakistan\"\n",
        "message= message.replace(\"Pakistan\", \"India\")\n",
        "print(message)"
      ],
      "metadata": {
        "colab": {
          "base_uri": "https://localhost:8080/"
        },
        "id": "9muyAs9VYUdH",
        "outputId": "7d91c215-176b-4e2d-fc5b-b0c3f840deeb"
      },
      "execution_count": 2,
      "outputs": [
        {
          "output_type": "stream",
          "name": "stdout",
          "text": [
            "India won all the matchesof champions trophy!, India\n"
          ]
        }
      ]
    },
    {
      "cell_type": "code",
      "source": [
        "cricket_team_countries = join_with.join([\"Pakistan\",\"India\", \"USA\"]\n",
        "print(cricket_team_countries)"
      ],
      "metadata": {
        "id": "7wNT_L7sYv_u"
      },
      "execution_count": null,
      "outputs": []
    },
    {
      "cell_type": "code",
      "source": [
        "name: str = \"Saba Saleem\"\n",
        "print(len(name))"
      ],
      "metadata": {
        "colab": {
          "base_uri": "https://localhost:8080/"
        },
        "id": "pVxwyaIoZw59",
        "outputId": "a0193210-5734-4162-cfa6-ac7eb6439f18"
      },
      "execution_count": 3,
      "outputs": [
        {
          "output_type": "stream",
          "name": "stdout",
          "text": [
            "11\n"
          ]
        }
      ]
    },
    {
      "cell_type": "code",
      "source": [
        "name: str = [\"Saba\", \"Nadia\"]\n",
        "print(len(name))"
      ],
      "metadata": {
        "colab": {
          "base_uri": "https://localhost:8080/"
        },
        "id": "UBwWDW0gaD5b",
        "outputId": "7bb2abbb-7721-4886-af8b-a8b88aa91507"
      },
      "execution_count": 5,
      "outputs": [
        {
          "output_type": "stream",
          "name": "stdout",
          "text": [
            "2\n"
          ]
        }
      ]
    },
    {
      "cell_type": "code",
      "source": [
        "import sys\n",
        "a= sys.intern(\"hello world\")\n",
        "b= sys.intern(\"hello world\")\n",
        "\n",
        "print(id(a))\n",
        "print(id(b))\n",
        "print(a is b)"
      ],
      "metadata": {
        "colab": {
          "base_uri": "https://localhost:8080/"
        },
        "id": "IhftUUmYaY1z",
        "outputId": "2086beb7-4df9-4920-b238-97bd77005bf5"
      },
      "execution_count": 7,
      "outputs": [
        {
          "output_type": "stream",
          "name": "stdout",
          "text": [
            "137361930448048\n",
            "137361930448048\n",
            "True\n"
          ]
        }
      ]
    },
    {
      "cell_type": "code",
      "source": [
        "import sys\n",
        "a= \"helloworld\"\n",
        "b=  \"helloworld\"\n",
        "\n",
        "print(id(a))\n",
        "print(id(b))\n",
        "print(a is b)\n"
      ],
      "metadata": {
        "colab": {
          "base_uri": "https://localhost:8080/"
        },
        "id": "v0JSAjrMbN0u",
        "outputId": "e58942bf-15f4-45e8-cb8a-fed1b009513e"
      },
      "execution_count": 8,
      "outputs": [
        {
          "output_type": "stream",
          "name": "stdout",
          "text": [
            "137361931123120\n",
            "137361931123120\n",
            "True\n"
          ]
        }
      ]
    },
    {
      "cell_type": "code",
      "source": [
        "a= \"hello\"\n",
        "b= \"world\"\n",
        "c= \"hello world\"\n",
        "d= sys.intern(a + b)\n",
        "print(c is d)"
      ],
      "metadata": {
        "colab": {
          "base_uri": "https://localhost:8080/"
        },
        "id": "5nMMMmk4eDNj",
        "outputId": "40e75fc9-46a9-437a-8efc-a6c63503d25d"
      },
      "execution_count": 9,
      "outputs": [
        {
          "output_type": "stream",
          "name": "stdout",
          "text": [
            "False\n"
          ]
        }
      ]
    },
    {
      "cell_type": "code",
      "source": [
        "#List\n",
        "fruits : list = [\"Mango\", \"Grapes\", \"Orange\"]\n",
        "fruits"
      ],
      "metadata": {
        "colab": {
          "base_uri": "https://localhost:8080/"
        },
        "id": "-68XVpzwhy7O",
        "outputId": "90313861-3efb-4ceb-8890-d7b290d8dc4f"
      },
      "execution_count": 10,
      "outputs": [
        {
          "output_type": "execute_result",
          "data": {
            "text/plain": [
              "['Mango', 'Grapes', 'Orange']"
            ]
          },
          "metadata": {},
          "execution_count": 10
        }
      ]
    },
    {
      "cell_type": "code",
      "source": [
        "fruits : list = [\"Mango\", \"Grapes\", \"Orange\"]\n",
        "print(fruits[-3])"
      ],
      "metadata": {
        "colab": {
          "base_uri": "https://localhost:8080/"
        },
        "id": "0pFc681yijHD",
        "outputId": "9f6a69c4-9b55-4441-d2d0-5e6cff09b966"
      },
      "execution_count": 11,
      "outputs": [
        {
          "output_type": "stream",
          "name": "stdout",
          "text": [
            "Mango\n"
          ]
        }
      ]
    },
    {
      "cell_type": "code",
      "source": [
        "#Slice\n",
        "fruits : list = [\"Mango\", \"Grapes\", \"Orange\"]\n",
        "print(fruits[0:2])"
      ],
      "metadata": {
        "colab": {
          "base_uri": "https://localhost:8080/"
        },
        "id": "kOmv4o3kjCAY",
        "outputId": "5ea1f2a4-0498-4d29-ec6d-d2804364f5a0"
      },
      "execution_count": 13,
      "outputs": [
        {
          "output_type": "stream",
          "name": "stdout",
          "text": [
            "['Mango', 'Grapes']\n"
          ]
        }
      ]
    },
    {
      "cell_type": "code",
      "source": [
        "#append\n",
        "fruits : list = [\"Mango\", \"Grapes\", \"Strawberry\"]\n",
        "fruits.append(\"Orange\")\n",
        "print(fruits)"
      ],
      "metadata": {
        "colab": {
          "base_uri": "https://localhost:8080/"
        },
        "id": "w8EWxjkTjhBN",
        "outputId": "ce02eb23-95c6-4b25-b75a-1af3f2f9901c"
      },
      "execution_count": 15,
      "outputs": [
        {
          "output_type": "stream",
          "name": "stdout",
          "text": [
            "['Mango', 'Grapes', 'Strawberry', 'Orange']\n"
          ]
        }
      ]
    },
    {
      "cell_type": "code",
      "source": [
        "#extent, pop\n",
        "fruits : list = [\"Mango\", \"Grapes\", \"Strawberry\"]\n",
        "fruits.pop(1)\n",
        "fruits.extend([\"Orange\", \"Kiwi\",\"Guava\"])\n",
        "print(fruits)"
      ],
      "metadata": {
        "colab": {
          "base_uri": "https://localhost:8080/"
        },
        "id": "X0FQkBXjkGGo",
        "outputId": "a1687987-53ea-4839-9876-c0a586a2feb3"
      },
      "execution_count": 18,
      "outputs": [
        {
          "output_type": "stream",
          "name": "stdout",
          "text": [
            "['Mango', 'Strawberry', 'Orange', 'Kiwi', 'Guava']\n"
          ]
        }
      ]
    },
    {
      "cell_type": "code",
      "source": [
        "person: dict = {\n",
        "    \"name\": \"Saba\",\n",
        "    \"Student_id\": 26,\n",
        "    \"is_student\": True,\n",
        "\n",
        "}\n",
        "print(person[name])"
      ],
      "metadata": {
        "colab": {
          "base_uri": "https://localhost:8080/",
          "height": 176
        },
        "id": "-rX4j6bok37X",
        "outputId": "6300580f-bb80-4af4-815d-e024b7dec412"
      },
      "execution_count": 22,
      "outputs": [
        {
          "output_type": "error",
          "ename": "TypeError",
          "evalue": "unhashable type: 'list'",
          "traceback": [
            "\u001b[0;31m---------------------------------------------------------------------------\u001b[0m",
            "\u001b[0;31mTypeError\u001b[0m                                 Traceback (most recent call last)",
            "\u001b[0;32m<ipython-input-22-0aad28514504>\u001b[0m in \u001b[0;36m<cell line: 0>\u001b[0;34m()\u001b[0m\n\u001b[1;32m      4\u001b[0m     \u001b[0;34m\"is_student\"\u001b[0m\u001b[0;34m:\u001b[0m \u001b[0;32mTrue\u001b[0m\u001b[0;34m,\u001b[0m\u001b[0;34m\u001b[0m\u001b[0;34m\u001b[0m\u001b[0m\n\u001b[1;32m      5\u001b[0m }\n\u001b[0;32m----> 6\u001b[0;31m \u001b[0mprint\u001b[0m\u001b[0;34m(\u001b[0m\u001b[0mperson\u001b[0m\u001b[0;34m[\u001b[0m\u001b[0mname\u001b[0m\u001b[0;34m]\u001b[0m\u001b[0;34m)\u001b[0m\u001b[0;34m\u001b[0m\u001b[0;34m\u001b[0m\u001b[0m\n\u001b[0m",
            "\u001b[0;31mTypeError\u001b[0m: unhashable type: 'list'"
          ]
        }
      ]
    },
    {
      "cell_type": "code",
      "source": [],
      "metadata": {
        "id": "UlOHDf2imiv2"
      },
      "execution_count": null,
      "outputs": []
    }
  ]
}